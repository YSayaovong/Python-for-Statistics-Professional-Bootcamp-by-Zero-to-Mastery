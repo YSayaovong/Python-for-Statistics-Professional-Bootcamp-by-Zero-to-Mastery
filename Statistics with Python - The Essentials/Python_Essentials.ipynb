{
  "nbformat": 4,
  "nbformat_minor": 0,
  "metadata": {
    "colab": {
      "provenance": [],
      "toc_visible": true,
      "authorship_tag": "ABX9TyO4QnLvn7vGi9ybBvznLF4w",
      "include_colab_link": true
    },
    "kernelspec": {
      "name": "python3",
      "display_name": "Python 3"
    },
    "language_info": {
      "name": "python"
    }
  },
  "cells": [
    {
      "cell_type": "markdown",
      "metadata": {
        "id": "view-in-github",
        "colab_type": "text"
      },
      "source": [
        "<a href=\"https://colab.research.google.com/github/YSayaovong/Statistics-Bootcamp-with-Python-Zero-to-Mastery/blob/main/Python_Essentials.ipynb\" target=\"_parent\"><img src=\"https://colab.research.google.com/assets/colab-badge.svg\" alt=\"Open In Colab\"/></a>"
      ]
    },
    {
      "cell_type": "markdown",
      "source": [
        "#Print Function"
      ],
      "metadata": {
        "id": "YEL4QPpHeDj-"
      }
    },
    {
      "cell_type": "code",
      "source": [
        "# Simple print example\n",
        "print(\"Hello, World!\")"
      ],
      "metadata": {
        "colab": {
          "base_uri": "https://localhost:8080/"
        },
        "id": "Pi0L1Ry2eG8y",
        "outputId": "f10a5f3b-f135-4947-f814-06416a0064ca"
      },
      "execution_count": null,
      "outputs": [
        {
          "output_type": "stream",
          "name": "stdout",
          "text": [
            "Hello, World!\n"
          ]
        }
      ]
    },
    {
      "cell_type": "code",
      "source": [
        "#Without print function\n",
        "print(\"Hello\")\n",
        "print(\"World\")"
      ],
      "metadata": {
        "colab": {
          "base_uri": "https://localhost:8080/"
        },
        "id": "IR53II9gePT5",
        "outputId": "7ae1bcc7-d47d-420a-dc56-7ed4762c4d2d"
      },
      "execution_count": null,
      "outputs": [
        {
          "output_type": "stream",
          "name": "stdout",
          "text": [
            "Hello\n",
            "World\n"
          ]
        }
      ]
    },
    {
      "cell_type": "code",
      "source": [
        "#Print with Inputs\n",
        "name = \"Yengkong\"\n",
        "age = 40\n",
        "print(\"My name is\", name, \"and I am\", age, \"years old.\")"
      ],
      "metadata": {
        "colab": {
          "base_uri": "https://localhost:8080/"
        },
        "id": "oM6ZrRaHexeM",
        "outputId": "9c682882-2459-46d8-de9f-45d6909e7a18"
      },
      "execution_count": 15,
      "outputs": [
        {
          "output_type": "stream",
          "name": "stdout",
          "text": [
            "My name is Yengkong and I am 40 years old.\n"
          ]
        }
      ]
    },
    {
      "cell_type": "code",
      "source": [
        "# Define the variables\n",
        "name = \"Yengkong\"\n",
        "age = 40\n",
        "\n",
        "# String concatenation (+)\n",
        "print(\"My name is \" + name + \" and I am \" + str(age) + \" years old\")"
      ],
      "metadata": {
        "id": "CdJgGX_be_p3",
        "colab": {
          "base_uri": "https://localhost:8080/"
        },
        "outputId": "6ecce08f-0368-4421-b0cb-4ab84acc5ef4"
      },
      "execution_count": 16,
      "outputs": [
        {
          "output_type": "stream",
          "name": "stdout",
          "text": [
            "My name is Yengkong and I am 40 years old\n"
          ]
        }
      ]
    },
    {
      "cell_type": "code",
      "source": [
        "# F-string\n",
        "print(f\"My name is {name} and I am {age} years old\")"
      ],
      "metadata": {
        "colab": {
          "base_uri": "https://localhost:8080/"
        },
        "id": "4JXjBgyAbwiv",
        "outputId": "1554db87-0e0d-458f-8f5d-4f2dc30333fd"
      },
      "execution_count": 17,
      "outputs": [
        {
          "output_type": "stream",
          "name": "stdout",
          "text": [
            "My name is Yengkong and I am 40 years old\n"
          ]
        }
      ]
    },
    {
      "cell_type": "code",
      "source": [
        "# Input function\n",
        "name = input()"
      ],
      "metadata": {
        "colab": {
          "base_uri": "https://localhost:8080/"
        },
        "id": "SHT7o-HRcSdv",
        "outputId": "b4d830fe-124f-4220-fd24-0357b8048219"
      },
      "execution_count": 18,
      "outputs": [
        {
          "name": "stdout",
          "output_type": "stream",
          "text": [
            "\n"
          ]
        }
      ]
    },
    {
      "cell_type": "code",
      "source": [
        "# Customizable Print Function\n",
        "name = input(\"Please enter your name: \")"
      ],
      "metadata": {
        "colab": {
          "base_uri": "https://localhost:8080/"
        },
        "id": "QXXgwYxkd3yF",
        "outputId": "193d18d0-3f1e-48f3-c070-5e080c402de6"
      },
      "execution_count": 19,
      "outputs": [
        {
          "name": "stdout",
          "output_type": "stream",
          "text": [
            "Please enter your name: Yengkong\n"
          ]
        }
      ]
    },
    {
      "cell_type": "code",
      "source": [
        "# Personalized greeting\n",
        "name = input(\"Please enter your name: \")\n",
        "age = input(\"Please enter your age: \")\n",
        "\n",
        "# Print function for greeting\n",
        "print(f\"Hello, {name}! You are {age} years old.\")"
      ],
      "metadata": {
        "colab": {
          "base_uri": "https://localhost:8080/"
        },
        "id": "Sqktz1B7fFn3",
        "outputId": "be10f4f9-2ec6-4baa-ddc5-0579e7b72759"
      },
      "execution_count": 20,
      "outputs": [
        {
          "output_type": "stream",
          "name": "stdout",
          "text": [
            "Please enter your name: Yengkong\n",
            "Please enter your age: 40\n",
            "Hello, Yengkong! You are 40 years old.\n"
          ]
        }
      ]
    },
    {
      "cell_type": "code",
      "source": [
        "# Personalized greetings\n",
        "name = input(\"Please enter your name: \")\n",
        "age = input(\"Please enter your age: \")\n",
        "\n",
        "# Print function to greeting\n",
        "print(f\"Hello, {name}! You are {age} years old.\")"
      ],
      "metadata": {
        "colab": {
          "base_uri": "https://localhost:8080/"
        },
        "id": "IubXAv1ffWbB",
        "outputId": "d3d3961e-d753-430b-9f53-cf622a671f00"
      },
      "execution_count": 21,
      "outputs": [
        {
          "output_type": "stream",
          "name": "stdout",
          "text": [
            "Please enter your name: Yengkong\n",
            "Please enter your age: 40\n",
            "Hello, Yengkong! You are 40 years old.\n"
          ]
        }
      ]
    },
    {
      "cell_type": "code",
      "source": [],
      "metadata": {
        "id": "UsQGk0lYgK7C"
      },
      "execution_count": null,
      "outputs": []
    }
  ]
}
