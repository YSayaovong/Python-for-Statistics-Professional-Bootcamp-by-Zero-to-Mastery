{
  "nbformat": 4,
  "nbformat_minor": 0,
  "metadata": {
    "colab": {
      "provenance": [],
      "toc_visible": true
    },
    "kernelspec": {
      "name": "python3",
      "display_name": "Python 3"
    },
    "language_info": {
      "name": "python"
    }
  },
  "cells": [
    {
      "cell_type": "markdown",
      "source": [
        "#Print Function"
      ],
      "metadata": {
        "id": "YEL4QPpHeDj-"
      }
    },
    {
      "cell_type": "code",
      "source": [
        "# Simple print example\n",
        "print(\"Hello, World!\")"
      ],
      "metadata": {
        "colab": {
          "base_uri": "https://localhost:8080/"
        },
        "id": "Pi0L1Ry2eG8y",
        "outputId": "f10a5f3b-f135-4947-f814-06416a0064ca"
      },
      "execution_count": null,
      "outputs": [
        {
          "output_type": "stream",
          "name": "stdout",
          "text": [
            "Hello, World!\n"
          ]
        }
      ]
    },
    {
      "cell_type": "code",
      "source": [
        "#Without print function\n",
        "print(\"Hello\")\n",
        "print(\"World\")"
      ],
      "metadata": {
        "colab": {
          "base_uri": "https://localhost:8080/"
        },
        "id": "IR53II9gePT5",
        "outputId": "7ae1bcc7-d47d-420a-dc56-7ed4762c4d2d"
      },
      "execution_count": null,
      "outputs": [
        {
          "output_type": "stream",
          "name": "stdout",
          "text": [
            "Hello\n",
            "World\n"
          ]
        }
      ]
    },
    {
      "cell_type": "code",
      "source": [
        "#Print with Inputs\n",
        "name = \"Yengkong\"\n",
        "age = 40\n",
        "print(\"My name is\", name, \"and I am\", age, \"years old.\")"
      ],
      "metadata": {
        "colab": {
          "base_uri": "https://localhost:8080/"
        },
        "id": "oM6ZrRaHexeM",
        "outputId": "9c682882-2459-46d8-de9f-45d6909e7a18"
      },
      "execution_count": null,
      "outputs": [
        {
          "output_type": "stream",
          "name": "stdout",
          "text": [
            "My name is Yengkong and I am 40 years old.\n"
          ]
        }
      ]
    },
    {
      "cell_type": "code",
      "source": [
        "# Define the variables\n",
        "name = \"Yengkong\"\n",
        "age = 40\n",
        "\n",
        "# String concatenation (+)\n",
        "print(\"My name is \" + name + \" and I am \" + str(age) + \" years old\")"
      ],
      "metadata": {
        "id": "CdJgGX_be_p3",
        "colab": {
          "base_uri": "https://localhost:8080/"
        },
        "outputId": "6ecce08f-0368-4421-b0cb-4ab84acc5ef4"
      },
      "execution_count": null,
      "outputs": [
        {
          "output_type": "stream",
          "name": "stdout",
          "text": [
            "My name is Yengkong and I am 40 years old\n"
          ]
        }
      ]
    },
    {
      "cell_type": "code",
      "source": [
        "# F-string\n",
        "print(f\"My name is {name} and I am {age} years old\")"
      ],
      "metadata": {
        "colab": {
          "base_uri": "https://localhost:8080/"
        },
        "id": "4JXjBgyAbwiv",
        "outputId": "1554db87-0e0d-458f-8f5d-4f2dc30333fd"
      },
      "execution_count": null,
      "outputs": [
        {
          "output_type": "stream",
          "name": "stdout",
          "text": [
            "My name is Yengkong and I am 40 years old\n"
          ]
        }
      ]
    },
    {
      "cell_type": "code",
      "source": [
        "# Input function\n",
        "name = input()"
      ],
      "metadata": {
        "colab": {
          "base_uri": "https://localhost:8080/"
        },
        "id": "SHT7o-HRcSdv",
        "outputId": "b4d830fe-124f-4220-fd24-0357b8048219"
      },
      "execution_count": null,
      "outputs": [
        {
          "name": "stdout",
          "output_type": "stream",
          "text": [
            "\n"
          ]
        }
      ]
    },
    {
      "cell_type": "code",
      "source": [
        "# Customizable Print Function\n",
        "name = input(\"Please enter your name: \")"
      ],
      "metadata": {
        "colab": {
          "base_uri": "https://localhost:8080/"
        },
        "id": "QXXgwYxkd3yF",
        "outputId": "193d18d0-3f1e-48f3-c070-5e080c402de6"
      },
      "execution_count": null,
      "outputs": [
        {
          "name": "stdout",
          "output_type": "stream",
          "text": [
            "Please enter your name: Yengkong\n"
          ]
        }
      ]
    },
    {
      "cell_type": "code",
      "source": [
        "# Personalized greeting\n",
        "name = input(\"Please enter your name: \")\n",
        "age = input(\"Please enter your age: \")\n",
        "\n",
        "# Print function for greeting\n",
        "print(f\"Hello, {name}! You are {age} years old.\")"
      ],
      "metadata": {
        "colab": {
          "base_uri": "https://localhost:8080/"
        },
        "id": "Sqktz1B7fFn3",
        "outputId": "be10f4f9-2ec6-4baa-ddc5-0579e7b72759"
      },
      "execution_count": null,
      "outputs": [
        {
          "output_type": "stream",
          "name": "stdout",
          "text": [
            "Please enter your name: Yengkong\n",
            "Please enter your age: 40\n",
            "Hello, Yengkong! You are 40 years old.\n"
          ]
        }
      ]
    },
    {
      "cell_type": "code",
      "source": [
        "# Personalized greetings\n",
        "name = input(\"Please enter your name: \")\n",
        "age = input(\"Please enter your age: \")\n",
        "\n",
        "# Print function to greeting\n",
        "print(f\"Hello, {name}! You are {age} years old.\")"
      ],
      "metadata": {
        "colab": {
          "base_uri": "https://localhost:8080/"
        },
        "id": "IubXAv1ffWbB",
        "outputId": "d3d3961e-d753-430b-9f53-cf622a671f00"
      },
      "execution_count": null,
      "outputs": [
        {
          "output_type": "stream",
          "name": "stdout",
          "text": [
            "Please enter your name: Yengkong\n",
            "Please enter your age: 40\n",
            "Hello, Yengkong! You are 40 years old.\n"
          ]
        }
      ]
    },
    {
      "cell_type": "markdown",
      "source": [
        "#CHALLENGE - Your Superhero Name"
      ],
      "metadata": {
        "id": "jf_7XUuvIQWU"
      }
    },
    {
      "cell_type": "code",
      "source": [
        "# Step 1: Find the adjective on the 13th page of the book closest to you.\n",
        "adjective = input(\"Find first adjective in the 13th page of a book: \")\n",
        "# The Go-Getter -> general\n",
        "\n",
        "# Step 2: Something that scares you (noun)\n",
        "noun = input(\"Something that scares you: \")\n",
        "\n",
        "# Step 3: Display the information to the user\n",
        "print(f\"Your superhero name is {adjective} {noun}\")"
      ],
      "metadata": {
        "colab": {
          "base_uri": "https://localhost:8080/"
        },
        "id": "hULAeNjbrYGq",
        "outputId": "fb2cf0f5-ace3-4daa-c215-0667fcf0f4bc"
      },
      "execution_count": null,
      "outputs": [
        {
          "output_type": "stream",
          "name": "stdout",
          "text": [
            "Find first adjective in the 13th page of a book: general\n",
            "Something that scares you: heights\n",
            "Your superhero name is general heights\n"
          ]
        }
      ]
    },
    {
      "cell_type": "markdown",
      "source": [
        "#Variable Types in Pythons"
      ],
      "metadata": {
        "id": "oaBD2CcfpNEo"
      }
    },
    {
      "cell_type": "code",
      "source": [
        "# Checking Variable Type\n",
        "name = \"Yengkong\"\n",
        "age = 40\n",
        "height = 5.583\n",
        "print(type(name))\n",
        "print(type(age))\n",
        "print(type(height))"
      ],
      "metadata": {
        "colab": {
          "base_uri": "https://localhost:8080/"
        },
        "id": "kxiU08TlpSFA",
        "outputId": "20bc77d0-5185-471b-c489-990b6bae918e"
      },
      "execution_count": null,
      "outputs": [
        {
          "output_type": "stream",
          "name": "stdout",
          "text": [
            "<class 'str'>\n",
            "<class 'int'>\n",
            "<class 'float'>\n"
          ]
        }
      ]
    },
    {
      "cell_type": "code",
      "source": [
        "# Transform a float into an integer\n",
        "height = 5.583\n",
        "height_integer = int(height)\n",
        "print(height)\n",
        "print(height_integer)"
      ],
      "metadata": {
        "colab": {
          "base_uri": "https://localhost:8080/"
        },
        "id": "hQ3VBK4bpr_A",
        "outputId": "ab6ca14a-e9b0-4deb-e8d1-c21b6f66c63f"
      },
      "execution_count": null,
      "outputs": [
        {
          "output_type": "stream",
          "name": "stdout",
          "text": [
            "5.583\n",
            "5\n"
          ]
        }
      ]
    },
    {
      "cell_type": "code",
      "source": [
        "# Transform an integer into a float\n",
        "a = 10\n",
        "b = float(a)\n",
        "print(a)\n",
        "print(b)"
      ],
      "metadata": {
        "colab": {
          "base_uri": "https://localhost:8080/"
        },
        "id": "q6gvincJqXKB",
        "outputId": "9884151d-ad93-46d3-c448-4840301e5d4d"
      },
      "execution_count": null,
      "outputs": [
        {
          "output_type": "stream",
          "name": "stdout",
          "text": [
            "10\n",
            "10.0\n"
          ]
        }
      ]
    },
    {
      "cell_type": "code",
      "source": [
        "# Transform a string into a float\n",
        "height = input(\"Please enter your height: \")\n",
        "type(height)\n",
        "\n"
      ],
      "metadata": {
        "colab": {
          "base_uri": "https://localhost:8080/"
        },
        "id": "epEKuWMMq27w",
        "outputId": "f0f60294-7527-4fa4-f9ee-a6323b5e9d0a"
      },
      "execution_count": null,
      "outputs": [
        {
          "name": "stdout",
          "output_type": "stream",
          "text": [
            "Please enter your height: 5.583\n"
          ]
        },
        {
          "output_type": "execute_result",
          "data": {
            "text/plain": [
              "str"
            ]
          },
          "metadata": {},
          "execution_count": 31
        }
      ]
    },
    {
      "cell_type": "code",
      "source": [
        "# Boolean\n",
        "C = True\n",
        "type(C)"
      ],
      "metadata": {
        "colab": {
          "base_uri": "https://localhost:8080/"
        },
        "id": "dVPZAcuer_bo",
        "outputId": "69d98c64-3322-41da-892e-06551118506d"
      },
      "execution_count": null,
      "outputs": [
        {
          "output_type": "execute_result",
          "data": {
            "text/plain": [
              "bool"
            ]
          },
          "metadata": {},
          "execution_count": 34
        }
      ]
    },
    {
      "cell_type": "markdown",
      "source": [
        "#Arithmetic Operations"
      ],
      "metadata": {
        "id": "6o-tazZ4uCwU"
      }
    },
    {
      "cell_type": "code",
      "source": [
        "# Decalring Variables\n",
        "x = 5\n",
        "y = 3"
      ],
      "metadata": {
        "id": "xVTd7fMvuEoz"
      },
      "execution_count": null,
      "outputs": []
    },
    {
      "cell_type": "code",
      "source": [
        "# Addition\n",
        "x + y"
      ],
      "metadata": {
        "colab": {
          "base_uri": "https://localhost:8080/"
        },
        "id": "m89wfhG7uWFL",
        "outputId": "7d963ce8-d660-4e0a-f37a-25aae93c19e9"
      },
      "execution_count": null,
      "outputs": [
        {
          "output_type": "execute_result",
          "data": {
            "text/plain": [
              "8"
            ]
          },
          "metadata": {},
          "execution_count": 36
        }
      ]
    },
    {
      "cell_type": "code",
      "source": [
        "# Subtraction\n",
        "x - y"
      ],
      "metadata": {
        "colab": {
          "base_uri": "https://localhost:8080/"
        },
        "id": "zRjP3XfiuZBL",
        "outputId": "b686205a-fd2b-4a64-965c-f6d01f2e3e70"
      },
      "execution_count": null,
      "outputs": [
        {
          "output_type": "execute_result",
          "data": {
            "text/plain": [
              "2"
            ]
          },
          "metadata": {},
          "execution_count": 37
        }
      ]
    },
    {
      "cell_type": "code",
      "source": [
        "# Multiplication\n",
        "x * y"
      ],
      "metadata": {
        "colab": {
          "base_uri": "https://localhost:8080/"
        },
        "id": "GvkkDraqumir",
        "outputId": "46c9f6c6-b105-4430-d0f0-c518f80a3d76"
      },
      "execution_count": null,
      "outputs": [
        {
          "output_type": "execute_result",
          "data": {
            "text/plain": [
              "15"
            ]
          },
          "metadata": {},
          "execution_count": 38
        }
      ]
    },
    {
      "cell_type": "code",
      "source": [
        "# Division\n",
        "x/y"
      ],
      "metadata": {
        "colab": {
          "base_uri": "https://localhost:8080/"
        },
        "id": "-Vbdd5Vhupkj",
        "outputId": "de5c5b6b-8ec7-4244-bd8d-5ce5d09c04d1"
      },
      "execution_count": null,
      "outputs": [
        {
          "output_type": "execute_result",
          "data": {
            "text/plain": [
              "1.6666666666666667"
            ]
          },
          "metadata": {},
          "execution_count": 39
        }
      ]
    },
    {
      "cell_type": "code",
      "source": [
        "# Modulus\n",
        "x % y"
      ],
      "metadata": {
        "colab": {
          "base_uri": "https://localhost:8080/"
        },
        "id": "URGzUxHUurvr",
        "outputId": "b2735bd0-e277-41f7-bd19-e2652f16f5bc"
      },
      "execution_count": null,
      "outputs": [
        {
          "output_type": "execute_result",
          "data": {
            "text/plain": [
              "2"
            ]
          },
          "metadata": {},
          "execution_count": 40
        }
      ]
    },
    {
      "cell_type": "code",
      "source": [
        "# Exponential\n",
        "x ** y"
      ],
      "metadata": {
        "colab": {
          "base_uri": "https://localhost:8080/"
        },
        "id": "49qRfyIXuwTL",
        "outputId": "4746c7c6-0601-495e-ee86-6aa1058d0f49"
      },
      "execution_count": null,
      "outputs": [
        {
          "output_type": "execute_result",
          "data": {
            "text/plain": [
              "125"
            ]
          },
          "metadata": {},
          "execution_count": 41
        }
      ]
    },
    {
      "cell_type": "code",
      "source": [
        "# Floor Division\n",
        "x // y"
      ],
      "metadata": {
        "colab": {
          "base_uri": "https://localhost:8080/"
        },
        "id": "y9SazYOUu5Z7",
        "outputId": "29513743-4183-45f4-ca24-33964ea63006"
      },
      "execution_count": null,
      "outputs": [
        {
          "output_type": "execute_result",
          "data": {
            "text/plain": [
              "1"
            ]
          },
          "metadata": {},
          "execution_count": 42
        }
      ]
    },
    {
      "cell_type": "code",
      "source": [
        "# Compound Assignment Operators ( +=, -=, *=, /=, %=, **=, //=)\n",
        "x = 5  # Initialize x with a value\n",
        "x += 3 # equivalent to x = x + 3\n",
        "print(x)"
      ],
      "metadata": {
        "id": "5Jpsmz19vAED",
        "colab": {
          "base_uri": "https://localhost:8080/"
        },
        "outputId": "75c42f1c-0838-4225-d823-9730e569515c"
      },
      "execution_count": 6,
      "outputs": [
        {
          "output_type": "stream",
          "name": "stdout",
          "text": [
            "8\n"
          ]
        }
      ]
    },
    {
      "cell_type": "code",
      "source": [
        "# Less techie way of doing it\n",
        "x = x + 3\n",
        "print(x)"
      ],
      "metadata": {
        "colab": {
          "base_uri": "https://localhost:8080/"
        },
        "id": "f7sGh6AF6vFP",
        "outputId": "6ab1041c-db87-42dc-eaa8-b40aa5242adc"
      },
      "execution_count": 9,
      "outputs": [
        {
          "output_type": "stream",
          "name": "stdout",
          "text": [
            "14\n"
          ]
        }
      ]
    },
    {
      "cell_type": "code",
      "source": [
        "# Floor Division Compound\n",
        "x //= 5\n",
        "print(x)"
      ],
      "metadata": {
        "colab": {
          "base_uri": "https://localhost:8080/"
        },
        "id": "5koAU3YO-Bxy",
        "outputId": "a65dfcc6-d391-48e4-af7b-a0b7fb15c800"
      },
      "execution_count": 11,
      "outputs": [
        {
          "output_type": "stream",
          "name": "stdout",
          "text": [
            "2\n"
          ]
        }
      ]
    },
    {
      "cell_type": "markdown",
      "source": [
        "#Python Comparison Operators"
      ],
      "metadata": {
        "id": "8JxOTYdAGA8c"
      }
    },
    {
      "cell_type": "code",
      "source": [
        "# Decalring Variables\n",
        "x = 5\n",
        "y = 3"
      ],
      "metadata": {
        "id": "0_VsPdDhC-P1"
      },
      "execution_count": 12,
      "outputs": []
    },
    {
      "cell_type": "code",
      "source": [
        "# Equal to (==)\n",
        "x == y"
      ],
      "metadata": {
        "colab": {
          "base_uri": "https://localhost:8080/"
        },
        "id": "HegJxMu8GLz9",
        "outputId": "0472716e-9b2f-439a-864a-6a02de01c6cd"
      },
      "execution_count": 13,
      "outputs": [
        {
          "output_type": "execute_result",
          "data": {
            "text/plain": [
              "False"
            ]
          },
          "metadata": {},
          "execution_count": 13
        }
      ]
    },
    {
      "cell_type": "code",
      "source": [
        "# Not equal\n",
        "x != y"
      ],
      "metadata": {
        "colab": {
          "base_uri": "https://localhost:8080/"
        },
        "id": "OgDKycm6GVib",
        "outputId": "10fdcf6a-6e18-40d8-d92c-bce48b98accf"
      },
      "execution_count": 14,
      "outputs": [
        {
          "output_type": "execute_result",
          "data": {
            "text/plain": [
              "True"
            ]
          },
          "metadata": {},
          "execution_count": 14
        }
      ]
    },
    {
      "cell_type": "code",
      "source": [
        "# Greater than (>)\n",
        "x > y"
      ],
      "metadata": {
        "colab": {
          "base_uri": "https://localhost:8080/"
        },
        "id": "_1j9OkjqGYik",
        "outputId": "01e6eb13-a6b7-4331-ab4f-892cdbc355be"
      },
      "execution_count": 15,
      "outputs": [
        {
          "output_type": "execute_result",
          "data": {
            "text/plain": [
              "True"
            ]
          },
          "metadata": {},
          "execution_count": 15
        }
      ]
    },
    {
      "cell_type": "code",
      "source": [
        "# Less than (<)\n",
        "x < y"
      ],
      "metadata": {
        "colab": {
          "base_uri": "https://localhost:8080/"
        },
        "id": "w7eWgoSwGxUv",
        "outputId": "9061eec7-3fd3-4340-a459-ef30c1be8d57"
      },
      "execution_count": 16,
      "outputs": [
        {
          "output_type": "execute_result",
          "data": {
            "text/plain": [
              "False"
            ]
          },
          "metadata": {},
          "execution_count": 16
        }
      ]
    },
    {
      "cell_type": "code",
      "source": [
        "# Greater than or equal to (>=)\n",
        "x >= y"
      ],
      "metadata": {
        "colab": {
          "base_uri": "https://localhost:8080/"
        },
        "id": "1D9ayIA3G1Zf",
        "outputId": "534fa2ec-fa30-4312-b467-8a64b9fd71b5"
      },
      "execution_count": 17,
      "outputs": [
        {
          "output_type": "execute_result",
          "data": {
            "text/plain": [
              "True"
            ]
          },
          "metadata": {},
          "execution_count": 17
        }
      ]
    },
    {
      "cell_type": "code",
      "source": [
        "# Less than or equal to (<=)\n",
        "x <= y"
      ],
      "metadata": {
        "colab": {
          "base_uri": "https://localhost:8080/"
        },
        "id": "Kd-ec2m1G4zB",
        "outputId": "2cb0e323-7a63-436d-8c87-e451d517a984"
      },
      "execution_count": 18,
      "outputs": [
        {
          "output_type": "execute_result",
          "data": {
            "text/plain": [
              "False"
            ]
          },
          "metadata": {},
          "execution_count": 18
        }
      ]
    },
    {
      "cell_type": "markdown",
      "source": [
        "#CHALLENGE - Split Bill Calculator"
      ],
      "metadata": {
        "id": "7ncERV6QIGy6"
      }
    },
    {
      "cell_type": "code",
      "source": [
        "# Step 1: Prompt for the total cost of the meal\n",
        "meal_cost = float(input(\"Enter the total cost of the meal: \"))\n",
        "\n",
        "# Step 2: Prompt for the tip percentage\n",
        "tip_percentage = float(input(\"Enter the tip percentage you would like to apply (e.g., 15 for 15%): \"))\n",
        "\n",
        "# Step 3: Prompt for the number of people at the table\n",
        "num_people = int(input(\"Enter the number of people at the table: \"))\n",
        "\n",
        "# Step 4: Calculate the tip amount\n",
        "tip_amount = (tip_percentage / 100) * meal_cost\n",
        "\n",
        "# Step 5: Calculate the total cost of the meal, including the tip\n",
        "total_cost = meal_cost + tip_amount\n",
        "\n",
        "# Step 6: Divide the total cost by the number of people at the table\n",
        "cost_per_person = total_cost / num_people\n",
        "\n",
        "# Step 7: Display the tip amount, total cost, and cost per person\n",
        "print(\"\\n--- Bill Summary ---\")\n",
        "print(f\"Tip amount: ${tip_amount:.2f}\")\n",
        "print(f\"Total cost (including tip): ${total_cost:.2f}\")\n",
        "print(f\"Cost per person: ${cost_per_person:.2f}\")"
      ],
      "metadata": {
        "colab": {
          "base_uri": "https://localhost:8080/"
        },
        "id": "WLKQGU9AHCMS",
        "outputId": "07eb77ff-781f-4403-9088-1d325bd28a95"
      },
      "execution_count": 19,
      "outputs": [
        {
          "output_type": "stream",
          "name": "stdout",
          "text": [
            "Enter the total cost of the meal: 45\n",
            "Enter the tip percentage you would like to apply (e.g., 15 for 15%): 10\n",
            "Enter the number of people at the table: 7\n",
            "\n",
            "--- Bill Summary ---\n",
            "Tip amount: $4.50\n",
            "Total cost (including tip): $49.50\n",
            "Cost per person: $7.07\n"
          ]
        }
      ]
    },
    {
      "cell_type": "markdown",
      "source": [
        "#If-else conditions"
      ],
      "metadata": {
        "id": "8R47JdOZRUIa"
      }
    },
    {
      "cell_type": "code",
      "source": [
        "#IF statement\n",
        "x = 1\n",
        "\n",
        "if x > 5:\n",
        "  print(\"x is greater than 5\")"
      ],
      "metadata": {
        "id": "QMl3J4yGIdC8"
      },
      "execution_count": 21,
      "outputs": []
    },
    {
      "cell_type": "code",
      "source": [
        "#IF statement part 2\n",
        "x = 10\n",
        "\n",
        "if x > 5:\n",
        "  print(\"x is greater than 5\")"
      ],
      "metadata": {
        "colab": {
          "base_uri": "https://localhost:8080/"
        },
        "id": "h26-no6DRauJ",
        "outputId": "b1ffd582-4448-4125-9048-f3b655431704"
      },
      "execution_count": 22,
      "outputs": [
        {
          "output_type": "stream",
          "name": "stdout",
          "text": [
            "x is greater than 5\n"
          ]
        }
      ]
    },
    {
      "cell_type": "code",
      "source": [
        "# If + elif\n",
        "x = 20\n",
        "\n",
        "#if condition\n",
        "if x > 15:\n",
        "  print(\"x is greater than 5\")\n",
        "elif x > 5:\n",
        "  print(\"x is greater than 5 but not greater than 15\")"
      ],
      "metadata": {
        "colab": {
          "base_uri": "https://localhost:8080/"
        },
        "id": "qjal_qifRrZS",
        "outputId": "460713f3-8e56-437c-c7bd-bc965e2330d6"
      },
      "execution_count": 24,
      "outputs": [
        {
          "output_type": "stream",
          "name": "stdout",
          "text": [
            "x is greater than 5\n"
          ]
        }
      ]
    },
    {
      "cell_type": "code",
      "source": [
        "# If + elif + else\n",
        "x = -10\n",
        "\n",
        "#if condition\n",
        "if x > 15:\n",
        "  print(\"x is greater than 5\")\n",
        "elif x > 5:\n",
        "  print(\"x is greater than 5 but not greater than 15\")\n",
        "else:\n",
        "  print(\"x is less than or equal to 5\")"
      ],
      "metadata": {
        "colab": {
          "base_uri": "https://localhost:8080/"
        },
        "id": "NnL_MGooR_hE",
        "outputId": "b931b06a-ea39-4a32-c00f-161cf17cd8bb"
      },
      "execution_count": 27,
      "outputs": [
        {
          "output_type": "stream",
          "name": "stdout",
          "text": [
            "x is less than or equal to 5\n"
          ]
        }
      ]
    },
    {
      "cell_type": "markdown",
      "source": [
        "# EXERCISE - Can You Vote?"
      ],
      "metadata": {
        "id": "4jsAMdBYSw9X"
      }
    },
    {
      "cell_type": "code",
      "source": [
        "# Create an if-else condition that tells you whether someone can vote\n",
        "# The assessment must be based on their age.\n",
        "\n",
        "age = input(\"Please enter your age: \")\n",
        "age = int(age)\n",
        "\n",
        "#if-else condition\n",
        "if age >= 18:\n",
        "  print(\"You can vote\")\n",
        "else:\n",
        "  print(\"You cannot vote\")"
      ],
      "metadata": {
        "colab": {
          "base_uri": "https://localhost:8080/"
        },
        "id": "-9r1P0MGSmPG",
        "outputId": "c17f3989-edef-4dd1-e97d-502bd33da485"
      },
      "execution_count": 31,
      "outputs": [
        {
          "output_type": "stream",
          "name": "stdout",
          "text": [
            "Please enter your age: 40\n",
            "You can vote\n"
          ]
        }
      ]
    },
    {
      "cell_type": "markdown",
      "source": [
        "# EXERCISE - Grading Papers"
      ],
      "metadata": {
        "id": "usGhRM9TTTrJ"
      }
    },
    {
      "cell_type": "code",
      "source": [
        "# Take an input of a test score (0-100) and transform it into a grade (A-F)\n",
        "score = float(input(\"Please enter your test score (0-100): \"))\n",
        "\n",
        "if score >= 90:\n",
        "  grade = \"A\"\n",
        "  print(f\"Your score of {score} is equivalent to a grade of an {grade}\")\n",
        "elif score >= 80:\n",
        "  grade = \"B\"\n",
        "  print(f\"Your score of {score} is equivalent to a grade of a {grade}\")\n",
        "elif score >= 70:\n",
        "  grade = \"C\"\n",
        "  print(f\"Your score of {score} is equivalent to a grade of a {grade}\")\n",
        "elif score >= 60:\n",
        "  grade = \"D\"\n",
        "  print(f\"Your score of {score} is equivalent to a grade of a {grade}\")\n",
        "else:\n",
        "  grade = \"F\"\n",
        "  print(f\"Your score of {score} is equivalent to a grade of a {grade}\")"
      ],
      "metadata": {
        "colab": {
          "base_uri": "https://localhost:8080/"
        },
        "id": "flKdD6wsTKRX",
        "outputId": "5ff10fa7-4cbc-4601-a54a-0486e5065e99"
      },
      "execution_count": 36,
      "outputs": [
        {
          "output_type": "stream",
          "name": "stdout",
          "text": [
            "Please enter your test score (0-100): 82\n",
            "Your score of 82.0 is equivalent to a grade of a B\n"
          ]
        }
      ]
    },
    {
      "cell_type": "markdown",
      "source": [
        "# CHALLENGE - Berghain Club Bouncer"
      ],
      "metadata": {
        "id": "lQffMwu2VBsX"
      }
    },
    {
      "cell_type": "code",
      "source": [
        "# Prompt the user for their age and the current number of guests in the club\n",
        "age = int(input(\"Please enter your age: \"))\n",
        "current_guests = int(input(\"Please enter the current number of guests in the club: \"))\n",
        "\n",
        "# Check the conditions for entry\n",
        "if age < 18 or age > 60:\n",
        "    print(\"Sorry, you cannot enter the club due to age restrictions.\")\n",
        "elif current_guests >= 200:\n",
        "    print(\"Sorry, the club is at maximum capacity. Please try again later.\")\n",
        "else:\n",
        "    print(\"Welcome to Berghain!\")"
      ],
      "metadata": {
        "colab": {
          "base_uri": "https://localhost:8080/"
        },
        "id": "nGSpxBFdULg6",
        "outputId": "449647a3-a478-49f4-c758-0f57126725d3"
      },
      "execution_count": 37,
      "outputs": [
        {
          "output_type": "stream",
          "name": "stdout",
          "text": [
            "Please enter your age: 55\n",
            "Please enter the current number of guests in the club: 199\n",
            "Welcome to Berghain!\n"
          ]
        }
      ]
    },
    {
      "cell_type": "markdown",
      "source": [
        "# CHALLENGE - Your Monthly Savings Plan"
      ],
      "metadata": {
        "id": "qiazAmU4VxY5"
      }
    },
    {
      "cell_type": "code",
      "source": [
        "# Prompt the user for their current age\n",
        "current_age = int(input(\"Enter your current age: \"))\n",
        "\n",
        "# Prompt the user for their target retirement age\n",
        "retirement_age = int(input(\"Enter your target retirement age: \"))\n",
        "\n",
        "# Prompt the user for their desired savings amount at retirement\n",
        "desired_savings = float(input(\"Enter your desired savings amount at retirement: \"))\n",
        "\n",
        "# Prompt the user for the annual interest rate on their savings\n",
        "annual_interest_rate = float(input(\"Enter the annual interest rate (in %): \")) / 100\n",
        "\n",
        "# Calculate the number of years left until retirement\n",
        "years_left = retirement_age - current_age\n",
        "\n",
        "# Calculate the total number of months left until retirement\n",
        "months_left = years_left * 12\n",
        "\n",
        "# Determine the ideal monthly savings amount\n",
        "if annual_interest_rate > 0:\n",
        "    monthly_interest_rate = (1 + annual_interest_rate) ** (1 / 12) - 1\n",
        "    monthly_savings = desired_savings * monthly_interest_rate / ((1 + monthly_interest_rate) ** months_left - 1)\n",
        "else:\n",
        "    monthly_savings = desired_savings / months_left\n",
        "\n",
        "# Display the ideal monthly savings amount to the user\n",
        "print(f\"To achieve your desired savings of ${desired_savings:,.2f}, you need to save ${monthly_savings:,.2f} per month.\")\n"
      ],
      "metadata": {
        "colab": {
          "base_uri": "https://localhost:8080/"
        },
        "id": "ghcV0I7_VqU_",
        "outputId": "d1d511a6-8a2d-4f78-86d9-87ffd24a2fc8"
      },
      "execution_count": 38,
      "outputs": [
        {
          "output_type": "stream",
          "name": "stdout",
          "text": [
            "Enter your current age: 38\n",
            "Enter your target retirement age: 50\n",
            "Enter your desired savings amount at retirement: 1000000\n",
            "Enter the annual interest rate (in %): 10\n",
            "To achieve your desired savings of $1,000,000.00, you need to save $3,728.97 per month.\n"
          ]
        }
      ]
    },
    {
      "cell_type": "code",
      "source": [],
      "metadata": {
        "id": "w7xxTdv_axks"
      },
      "execution_count": null,
      "outputs": []
    }
  ]
}