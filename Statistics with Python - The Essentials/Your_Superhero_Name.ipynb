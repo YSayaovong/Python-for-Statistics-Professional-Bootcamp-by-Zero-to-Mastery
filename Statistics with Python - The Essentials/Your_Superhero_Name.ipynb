{
  "nbformat": 4,
  "nbformat_minor": 0,
  "metadata": {
    "colab": {
      "provenance": []
    },
    "kernelspec": {
      "name": "python3",
      "display_name": "Python 3"
    },
    "language_info": {
      "name": "python"
    }
  },
  "cells": [
    {
      "cell_type": "markdown",
      "source": [
        "#Challenge: Create Superhero Name"
      ],
      "metadata": {
        "id": "LOidjSDnllNN"
      }
    },
    {
      "cell_type": "code",
      "execution_count": 4,
      "metadata": {
        "colab": {
          "base_uri": "https://localhost:8080/"
        },
        "id": "m2PsROgslXlP",
        "outputId": "0d6de1d8-60dc-4e62-9dfc-106f75c11262"
      },
      "outputs": [
        {
          "output_type": "stream",
          "name": "stdout",
          "text": [
            "Find first adjective in the 13th page of a book: general\n",
            "Something that scares you: heights\n",
            "Your superhero name is general heights\n"
          ]
        }
      ],
      "source": [
        "# Step 1: Find the adjective on the 13th page of the book closest to you.\n",
        "adjective = input(\"Find first adjective in the 13th page of a book: \")\n",
        "# The Go-Getter -> general\n",
        "\n",
        "# Step 2: Something that scares you (noun)\n",
        "noun = input(\"Something that scares you: \")\n",
        "\n",
        "# Step 3: Display the information to the user\n",
        "print(f\"Your superhero name is {adjective} {noun}\")"
      ]
    },
    {
      "cell_type": "code",
      "source": [],
      "metadata": {
        "id": "6bU4wEeXlvdV"
      },
      "execution_count": 1,
      "outputs": []
    }
  ]
}